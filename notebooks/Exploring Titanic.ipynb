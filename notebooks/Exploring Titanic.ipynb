{
 "cells": [
  {
   "cell_type": "markdown",
   "metadata": {},
   "source": [
    "# HandySpark\n",
    "\n",
    "### Bringing pandas-like capabilities to Spark dataframes!"
   ]
  },
  {
   "cell_type": "code",
   "execution_count": 1,
   "metadata": {},
   "outputs": [],
   "source": [
    "# UNCOMMENT THIS IF YOU'RE USING GOOGLE COLAB!\n",
    "\n",
    "#!apt-get install openjdk-8-jdk-headless -qq > /dev/null\n",
    "#!wget -q http://apache.osuosl.org/spark/spark-2.3.1/spark-2.3.1-bin-hadoop2.7.tgz\n",
    "#!tar xf spark-2.3.1-bin-hadoop2.7.tgz\n",
    "#!pip install -q findspark\n",
    "\n",
    "#import os\n",
    "#os.environ[\"JAVA_HOME\"] = \"/usr/lib/jvm/java-8-openjdk-amd64\"\n",
    "#os.environ[\"SPARK_HOME\"] = \"/content/spark-2.3.1-bin-hadoop2.7\""
   ]
  },
  {
   "cell_type": "code",
   "execution_count": 2,
   "metadata": {},
   "outputs": [],
   "source": [
    "import os\n",
    "import numpy as np\n",
    "import findspark\n",
    "import pandas as pd\n",
    "from pyspark.sql import SparkSession\n",
    "from pyspark.sql import functions as F\n",
    "from handyspark import *\n",
    "from matplotlib import pyplot as plt\n",
    "\n",
    "findspark.init()\n",
    "os.environ['PYSPARK_SUBMIT_ARGS'] = '--master local[*] pyspark-shell'\n",
    "\n",
    "%matplotlib inline\n",
    "\n",
    "spark = SparkSession.builder.getOrCreate()"
   ]
  },
  {
   "cell_type": "markdown",
   "metadata": {},
   "source": [
    "# 1. Loading Data into a `HandyFrame`\n",
    "\n",
    "### After loading data as usual, just call method `toHandy()` (an extension to Spark's dataframe)!"
   ]
  },
  {
   "cell_type": "code",
   "execution_count": 3,
   "metadata": {},
   "outputs": [
    {
     "data": {
      "text/plain": [
       "HandyFrame[PassengerId: int, Survived: int, Pclass: int, Name: string, Sex: string, Age: double, SibSp: int, Parch: int, Ticket: string, Fare: double, Cabin: string, Embarked: string]"
      ]
     },
     "execution_count": 3,
     "metadata": {},
     "output_type": "execute_result"
    }
   ],
   "source": [
    "sdf = spark.read.csv('train.csv', header=True, inferSchema=True)\n",
    "hdf = sdf.toHandy()\n",
    "hdf"
   ]
  },
  {
   "cell_type": "markdown",
   "metadata": {},
   "source": [
    "## Fetching some data\n",
    "\n",
    "- using an instance of `cols` from your `HandyFrame`, you can retrieve values for given columns in the top N rows"
   ]
  },
  {
   "cell_type": "markdown",
   "metadata": {},
   "source": [
    "#### Single column will be returned as a pandas Series"
   ]
  },
  {
   "cell_type": "code",
   "execution_count": 4,
   "metadata": {},
   "outputs": [
    {
     "data": {
      "text/plain": [
       "0                              Braund, Mr. Owen Harris\n",
       "1    Cumings, Mrs. John Bradley (Florence Briggs Th...\n",
       "2                               Heikkinen, Miss. Laina\n",
       "3         Futrelle, Mrs. Jacques Heath (Lily May Peel)\n",
       "4                             Allen, Mr. William Henry\n",
       "Name: Name, dtype: object"
      ]
     },
     "execution_count": 4,
     "metadata": {},
     "output_type": "execute_result"
    }
   ],
   "source": [
    "hdf.cols['Name'][:5]"
   ]
  },
  {
   "cell_type": "markdown",
   "metadata": {},
   "source": [
    "#### Multiple columns will be returned as a pandas DataFrame"
   ]
  },
  {
   "cell_type": "code",
   "execution_count": 5,
   "metadata": {},
   "outputs": [
    {
     "data": {
      "text/html": [
       "<div>\n",
       "<style scoped>\n",
       "    .dataframe tbody tr th:only-of-type {\n",
       "        vertical-align: middle;\n",
       "    }\n",
       "\n",
       "    .dataframe tbody tr th {\n",
       "        vertical-align: top;\n",
       "    }\n",
       "\n",
       "    .dataframe thead th {\n",
       "        text-align: right;\n",
       "    }\n",
       "</style>\n",
       "<table border=\"1\" class=\"dataframe\">\n",
       "  <thead>\n",
       "    <tr style=\"text-align: right;\">\n",
       "      <th></th>\n",
       "      <th>Name</th>\n",
       "      <th>Pclass</th>\n",
       "    </tr>\n",
       "  </thead>\n",
       "  <tbody>\n",
       "    <tr>\n",
       "      <th>0</th>\n",
       "      <td>Braund, Mr. Owen Harris</td>\n",
       "      <td>3</td>\n",
       "    </tr>\n",
       "    <tr>\n",
       "      <th>1</th>\n",
       "      <td>Cumings, Mrs. John Bradley (Florence Briggs Th...</td>\n",
       "      <td>1</td>\n",
       "    </tr>\n",
       "    <tr>\n",
       "      <th>2</th>\n",
       "      <td>Heikkinen, Miss. Laina</td>\n",
       "      <td>3</td>\n",
       "    </tr>\n",
       "    <tr>\n",
       "      <th>3</th>\n",
       "      <td>Futrelle, Mrs. Jacques Heath (Lily May Peel)</td>\n",
       "      <td>1</td>\n",
       "    </tr>\n",
       "    <tr>\n",
       "      <th>4</th>\n",
       "      <td>Allen, Mr. William Henry</td>\n",
       "      <td>3</td>\n",
       "    </tr>\n",
       "  </tbody>\n",
       "</table>\n",
       "</div>"
      ],
      "text/plain": [
       "                                                Name  Pclass\n",
       "0                            Braund, Mr. Owen Harris       3\n",
       "1  Cumings, Mrs. John Bradley (Florence Briggs Th...       1\n",
       "2                             Heikkinen, Miss. Laina       3\n",
       "3       Futrelle, Mrs. Jacques Heath (Lily May Peel)       1\n",
       "4                           Allen, Mr. William Henry       3"
      ]
     },
     "execution_count": 5,
     "metadata": {},
     "output_type": "execute_result"
    }
   ],
   "source": [
    "hdf.cols[['Name', 'Pclass']][:5]"
   ]
  },
  {
   "cell_type": "markdown",
   "metadata": {},
   "source": [
    "#### You can also use `:` to get all columns!"
   ]
  },
  {
   "cell_type": "code",
   "execution_count": 6,
   "metadata": {},
   "outputs": [
    {
     "data": {
      "text/html": [
       "<div>\n",
       "<style scoped>\n",
       "    .dataframe tbody tr th:only-of-type {\n",
       "        vertical-align: middle;\n",
       "    }\n",
       "\n",
       "    .dataframe tbody tr th {\n",
       "        vertical-align: top;\n",
       "    }\n",
       "\n",
       "    .dataframe thead th {\n",
       "        text-align: right;\n",
       "    }\n",
       "</style>\n",
       "<table border=\"1\" class=\"dataframe\">\n",
       "  <thead>\n",
       "    <tr style=\"text-align: right;\">\n",
       "      <th></th>\n",
       "      <th>PassengerId</th>\n",
       "      <th>Survived</th>\n",
       "      <th>Pclass</th>\n",
       "      <th>Name</th>\n",
       "      <th>Sex</th>\n",
       "      <th>Age</th>\n",
       "      <th>SibSp</th>\n",
       "      <th>Parch</th>\n",
       "      <th>Ticket</th>\n",
       "      <th>Fare</th>\n",
       "      <th>Cabin</th>\n",
       "      <th>Embarked</th>\n",
       "    </tr>\n",
       "  </thead>\n",
       "  <tbody>\n",
       "    <tr>\n",
       "      <th>0</th>\n",
       "      <td>1</td>\n",
       "      <td>0</td>\n",
       "      <td>3</td>\n",
       "      <td>Braund, Mr. Owen Harris</td>\n",
       "      <td>male</td>\n",
       "      <td>22.0</td>\n",
       "      <td>1</td>\n",
       "      <td>0</td>\n",
       "      <td>A/5 21171</td>\n",
       "      <td>7.2500</td>\n",
       "      <td>None</td>\n",
       "      <td>S</td>\n",
       "    </tr>\n",
       "    <tr>\n",
       "      <th>1</th>\n",
       "      <td>2</td>\n",
       "      <td>1</td>\n",
       "      <td>1</td>\n",
       "      <td>Cumings, Mrs. John Bradley (Florence Briggs Th...</td>\n",
       "      <td>female</td>\n",
       "      <td>38.0</td>\n",
       "      <td>1</td>\n",
       "      <td>0</td>\n",
       "      <td>PC 17599</td>\n",
       "      <td>71.2833</td>\n",
       "      <td>C85</td>\n",
       "      <td>C</td>\n",
       "    </tr>\n",
       "    <tr>\n",
       "      <th>2</th>\n",
       "      <td>3</td>\n",
       "      <td>1</td>\n",
       "      <td>3</td>\n",
       "      <td>Heikkinen, Miss. Laina</td>\n",
       "      <td>female</td>\n",
       "      <td>26.0</td>\n",
       "      <td>0</td>\n",
       "      <td>0</td>\n",
       "      <td>STON/O2. 3101282</td>\n",
       "      <td>7.9250</td>\n",
       "      <td>None</td>\n",
       "      <td>S</td>\n",
       "    </tr>\n",
       "    <tr>\n",
       "      <th>3</th>\n",
       "      <td>4</td>\n",
       "      <td>1</td>\n",
       "      <td>1</td>\n",
       "      <td>Futrelle, Mrs. Jacques Heath (Lily May Peel)</td>\n",
       "      <td>female</td>\n",
       "      <td>35.0</td>\n",
       "      <td>1</td>\n",
       "      <td>0</td>\n",
       "      <td>113803</td>\n",
       "      <td>53.1000</td>\n",
       "      <td>C123</td>\n",
       "      <td>S</td>\n",
       "    </tr>\n",
       "    <tr>\n",
       "      <th>4</th>\n",
       "      <td>5</td>\n",
       "      <td>0</td>\n",
       "      <td>3</td>\n",
       "      <td>Allen, Mr. William Henry</td>\n",
       "      <td>male</td>\n",
       "      <td>35.0</td>\n",
       "      <td>0</td>\n",
       "      <td>0</td>\n",
       "      <td>373450</td>\n",
       "      <td>8.0500</td>\n",
       "      <td>None</td>\n",
       "      <td>S</td>\n",
       "    </tr>\n",
       "  </tbody>\n",
       "</table>\n",
       "</div>"
      ],
      "text/plain": [
       "   PassengerId  Survived  Pclass  \\\n",
       "0            1         0       3   \n",
       "1            2         1       1   \n",
       "2            3         1       3   \n",
       "3            4         1       1   \n",
       "4            5         0       3   \n",
       "\n",
       "                                                Name     Sex   Age  SibSp  \\\n",
       "0                            Braund, Mr. Owen Harris    male  22.0      1   \n",
       "1  Cumings, Mrs. John Bradley (Florence Briggs Th...  female  38.0      1   \n",
       "2                             Heikkinen, Miss. Laina  female  26.0      0   \n",
       "3       Futrelle, Mrs. Jacques Heath (Lily May Peel)  female  35.0      1   \n",
       "4                           Allen, Mr. William Henry    male  35.0      0   \n",
       "\n",
       "   Parch            Ticket     Fare Cabin Embarked  \n",
       "0      0         A/5 21171   7.2500  None        S  \n",
       "1      0          PC 17599  71.2833   C85        C  \n",
       "2      0  STON/O2. 3101282   7.9250  None        S  \n",
       "3      0            113803  53.1000  C123        S  \n",
       "4      0            373450   8.0500  None        S  "
      ]
     },
     "execution_count": 6,
     "metadata": {},
     "output_type": "execute_result"
    }
   ],
   "source": [
    "hdf.cols[:][:5]"
   ]
  },
  {
   "cell_type": "markdown",
   "metadata": {},
   "source": [
    "# 2. Exploratory Data Analysis"
   ]
  },
  {
   "cell_type": "markdown",
   "metadata": {},
   "source": [
    "## Checking for missing values"
   ]
  },
  {
   "cell_type": "code",
   "execution_count": 7,
   "metadata": {},
   "outputs": [
    {
     "data": {
      "text/plain": [
       "PassengerId      0.0\n",
       "Survived         0.0\n",
       "Pclass           0.0\n",
       "Name             0.0\n",
       "Sex              0.0\n",
       "Age            177.0\n",
       "SibSp            0.0\n",
       "Parch            0.0\n",
       "Ticket           0.0\n",
       "Fare             0.0\n",
       "Cabin          687.0\n",
       "Embarked         2.0\n",
       "Name: missing, dtype: float64"
      ]
     },
     "execution_count": 7,
     "metadata": {},
     "output_type": "execute_result"
    }
   ],
   "source": [
    "hdf.isnull()"
   ]
  },
  {
   "cell_type": "markdown",
   "metadata": {},
   "source": [
    "### Let's check the value counts for `Embarked`"
   ]
  },
  {
   "cell_type": "code",
   "execution_count": 8,
   "metadata": {},
   "outputs": [
    {
     "data": {
      "text/plain": [
       "S      644\n",
       "C      168\n",
       "Q       77\n",
       "NaN      2\n",
       "Name: Embarked, dtype: int64"
      ]
     },
     "execution_count": 8,
     "metadata": {},
     "output_type": "execute_result"
    }
   ],
   "source": [
    "hdf.cols['Embarked'].value_counts(dropna=False)"
   ]
  },
  {
   "cell_type": "markdown",
   "metadata": {},
   "source": [
    "### S (Southampton) is the port where most people Embarked... is it like that for every class?\n",
    "\n",
    "## 2.1 Enter `stratify`!\n",
    "### You can now get statistics and more at strata level, without using `groupby`!"
   ]
  },
  {
   "cell_type": "code",
   "execution_count": 9,
   "metadata": {},
   "outputs": [
    {
     "data": {
      "text/plain": [
       "Pclass  Embarked\n",
       "1       C            85\n",
       "        Q             2\n",
       "        S           127\n",
       "2       C            17\n",
       "        Q             3\n",
       "        S           164\n",
       "3       C            66\n",
       "        Q            72\n",
       "        S           353\n",
       "Name: value_counts, dtype: int64"
      ]
     },
     "execution_count": 9,
     "metadata": {},
     "output_type": "execute_result"
    }
   ],
   "source": [
    "hdf.stratify(['Pclass']).cols['Embarked'].value_counts()"
   ]
  },
  {
   "cell_type": "markdown",
   "metadata": {},
   "source": [
    "### So, indeed, Southampton is the port where most of people from all classes embarked!\n",
    "\n",
    "### What about age? Is the average age different depending on `Pclass` and `Sex`? You bet!"
   ]
  },
  {
   "cell_type": "code",
   "execution_count": 10,
   "metadata": {},
   "outputs": [
    {
     "data": {
      "text/plain": [
       "Pclass  Sex     index\n",
       "1       female  Age      34.6118\n",
       "        male    Age      41.2814\n",
       "2       female  Age       28.723\n",
       "        male    Age      30.7407\n",
       "3       female  Age        21.75\n",
       "        male    Age      26.5076\n",
       "Name: mean, dtype: object"
      ]
     },
     "execution_count": 10,
     "metadata": {},
     "output_type": "execute_result"
    }
   ],
   "source": [
    "hdf.stratify(['Pclass', 'Sex']).cols['Age'].mean()"
   ]
  },
  {
   "cell_type": "markdown",
   "metadata": {},
   "source": [
    "### \"`stratify` is cool, but can I use it with continuous values too?\" Sure thing!\n",
    "\n",
    "## 2.2 Enter `Bucket` and `Quantile`!\n",
    "\n",
    "### You can use any of them to split continuous values into bins for the stratification!"
   ]
  },
  {
   "cell_type": "code",
   "execution_count": 11,
   "metadata": {},
   "outputs": [
    {
     "data": {
      "text/plain": [
       "Sex     Age                                Embarked\n",
       "female  Age >= 0.4200 and Age < 20.3150    C            21\n",
       "                                           Q             5\n",
       "                                           S            51\n",
       "        Age >= 20.3150 and Age < 40.2100   C            25\n",
       "                                           Q             7\n",
       "                                           S           103\n",
       "        Age >= 40.2100 and Age < 60.1050   C            15\n",
       "                                           S            30\n",
       "        Age >= 60.1050 and Age <= 80.0000  S             2\n",
       "male    Age >= 0.4200 and Age < 20.3150    C            11\n",
       "                                           Q             5\n",
       "                                           S            86\n",
       "        Age >= 20.3150 and Age < 40.2100   C            42\n",
       "                                           Q             6\n",
       "                                           S           201\n",
       "        Age >= 40.2100 and Age < 60.1050   C            13\n",
       "                                           Q             3\n",
       "                                           S            67\n",
       "        Age >= 60.1050 and Age <= 80.0000  C             3\n",
       "                                           Q             2\n",
       "                                           S            14\n",
       "Name: value_counts, dtype: int64"
      ]
     },
     "execution_count": 11,
     "metadata": {},
     "output_type": "execute_result"
    }
   ],
   "source": [
    "hdf.stratify(['Sex', Bucket('Age', 4)]).cols['Embarked'].value_counts()"
   ]
  },
  {
   "cell_type": "markdown",
   "metadata": {},
   "source": [
    "## Let's use `stratify` to perform a `fill` operation"
   ]
  },
  {
   "cell_type": "code",
   "execution_count": 12,
   "metadata": {},
   "outputs": [],
   "source": [
    "hdf_filled = hdf.stratify(['Pclass', 'Sex']).fill(continuous=['Age'], strategy=['mean'])\n",
    "hdf_filled = hdf_filled.fill(categorical=['Embarked'])"
   ]
  },
  {
   "cell_type": "code",
   "execution_count": 13,
   "metadata": {},
   "outputs": [
    {
     "data": {
      "text/plain": [
       "PassengerId      0.0\n",
       "Survived         0.0\n",
       "Pclass           0.0\n",
       "Name             0.0\n",
       "Sex              0.0\n",
       "Age              0.0\n",
       "SibSp            0.0\n",
       "Parch            0.0\n",
       "Ticket           0.0\n",
       "Fare             0.0\n",
       "Cabin          687.0\n",
       "Embarked         0.0\n",
       "Name: missing, dtype: float64"
      ]
     },
     "execution_count": 13,
     "metadata": {},
     "output_type": "execute_result"
    }
   ],
   "source": [
    "hdf_filled.isnull()"
   ]
  },
  {
   "cell_type": "markdown",
   "metadata": {},
   "source": [
    "### Ok, no more missing values for `Age` and `Embarked`!\n",
    "### Which values were actually used?"
   ]
  },
  {
   "cell_type": "code",
   "execution_count": 14,
   "metadata": {},
   "outputs": [
    {
     "data": {
      "text/plain": [
       "{'Embarked': 'S',\n",
       " 'Pclass == \"1\" and Sex == \"female\"': {'Age': 34.61176470588235},\n",
       " 'Pclass == \"1\" and Sex == \"male\"': {'Age': 41.28138613861386},\n",
       " 'Pclass == \"2\" and Sex == \"female\"': {'Age': 28.722972972972972},\n",
       " 'Pclass == \"2\" and Sex == \"male\"': {'Age': 30.74070707070707},\n",
       " 'Pclass == \"3\" and Sex == \"female\"': {'Age': 21.75},\n",
       " 'Pclass == \"3\" and Sex == \"male\"': {'Age': 26.507588932806325}}"
      ]
     },
     "execution_count": 14,
     "metadata": {},
     "output_type": "execute_result"
    }
   ],
   "source": [
    "hdf_filled.statistics_"
   ]
  },
  {
   "cell_type": "markdown",
   "metadata": {},
   "source": [
    "### \"But I want to use those values to fill the test set as well...\"\n",
    "\n",
    "## 2. 3 Enter the `transformers` generator!\n",
    "\n",
    "### You can generate a custom PySpark imputer transformer that will perform the stratified filling and it is serializable as well, so you can include it in your pipeline and save / load it at will!"
   ]
  },
  {
   "cell_type": "code",
   "execution_count": 15,
   "metadata": {},
   "outputs": [
    {
     "data": {
      "text/plain": [
       "{'Embarked': 'S',\n",
       " 'Pclass == \"1\" and Sex == \"female\"': {'Age': 34.61176470588235},\n",
       " 'Pclass == \"1\" and Sex == \"male\"': {'Age': 41.28138613861386},\n",
       " 'Pclass == \"2\" and Sex == \"female\"': {'Age': 28.722972972972972},\n",
       " 'Pclass == \"2\" and Sex == \"male\"': {'Age': 30.74070707070707},\n",
       " 'Pclass == \"3\" and Sex == \"female\"': {'Age': 21.75},\n",
       " 'Pclass == \"3\" and Sex == \"male\"': {'Age': 26.507588932806325}}"
      ]
     },
     "execution_count": 15,
     "metadata": {},
     "output_type": "execute_result"
    }
   ],
   "source": [
    "imputer = hdf_filled.transformers.imputer()\n",
    "imputer.getDictValues()"
   ]
  },
  {
   "cell_type": "markdown",
   "metadata": {},
   "source": [
    "## 2.4 Detecting and fencing outliers"
   ]
  },
  {
   "cell_type": "code",
   "execution_count": 16,
   "metadata": {},
   "outputs": [
    {
     "data": {
      "text/plain": [
       "PassengerId      0.0\n",
       "Survived         0.0\n",
       "Pclass           0.0\n",
       "Age             33.0\n",
       "SibSp           46.0\n",
       "Parch          213.0\n",
       "Fare           116.0\n",
       "dtype: float64"
      ]
     },
     "execution_count": 16,
     "metadata": {},
     "output_type": "execute_result"
    }
   ],
   "source": [
    "hdf_filled.outliers(method='tukey')"
   ]
  },
  {
   "cell_type": "markdown",
   "metadata": {},
   "source": [
    "### There seem to be outliers for several columns... how can we be certain?\n",
    "\n",
    "## Maybe plotting them?\n",
    "\n",
    "- Unlike many tutorials on the internet, these plots are generated using Spark's distributed computing capabilities, and ***NOT converting the whole dataset to pandas to plot it*** (which defeats the whole purpose of Spark!)"
   ]
  },
  {
   "cell_type": "code",
   "execution_count": 17,
   "metadata": {},
   "outputs": [
    {
     "data": {
      "text/plain": [
       "<matplotlib.axes._subplots.AxesSubplot at 0x7f5f203e4908>"
      ]
     },
     "execution_count": 17,
     "metadata": {},
     "output_type": "execute_result"
    },
    {
     "data": {
      "image/png": "[encoded data removed]",
      "text/plain": [
       "<Figure size 1152x288 with 4 Axes>"
      ]
     },
     "metadata": {},
     "output_type": "display_data"
    }
   ],
   "source": [
    "fig, axs = plt.subplots(1, 4, figsize=(16, 4))\n",
    "hdf_filled.cols['Parch'].hist(ax=axs[0])\n",
    "hdf_filled.cols['SibSp'].hist(ax=axs[1])\n",
    "hdf_filled.cols['Age'].boxplot(ax=axs[2])\n",
    "hdf_filled.cols['Fare'].boxplot(ax=axs[3])"
   ]
  },
  {
   "cell_type": "markdown",
   "metadata": {},
   "source": [
    "### So, it seems Tukey's method was very conservative... let's stick with the `Fare` column only!\n",
    "\n",
    "### This column has continuous values in a wide range of values... how about taking the `log` of it?\n",
    "\n",
    "## 2.5 Enter `assign`!\n",
    "\n",
    "### Using `assign`, it is possible to easily append a new column to the dataframe using a `lambda` function with column name(s) as argument(s)!\n",
    "\n",
    "### Under the hood, `HandySpark` will convert it to a `pandas udf` for better performance!\n"
   ]
  },
  {
   "cell_type": "code",
   "execution_count": 18,
   "metadata": {},
   "outputs": [],
   "source": [
    "hdf_filled = hdf_filled.assign(logFare=lambda Fare: np.log(Fare + 1))"
   ]
  },
  {
   "cell_type": "code",
   "execution_count": 19,
   "metadata": {},
   "outputs": [
    {
     "data": {
      "text/plain": [
       "<matplotlib.axes._subplots.AxesSubplot at 0x7f5f200e4c88>"
      ]
     },
     "execution_count": 19,
     "metadata": {},
     "output_type": "execute_result"
    },
    {
     "data": {
      "image/png": "[encoded data removed]",
      "text/plain": [
       "<Figure size 432x288 with 1 Axes>"
      ]
     },
     "metadata": {},
     "output_type": "display_data"
    }
   ],
   "source": [
    "hdf_filled.cols['logFare'].hist(bins=20)"
   ]
  },
  {
   "cell_type": "markdown",
   "metadata": {},
   "source": [
    "### Those values to the extreme left of the histogram seem suspicious...\n",
    "\n",
    "### Let's make a stratified boxplot to try spotting outliers!"
   ]
  },
  {
   "cell_type": "code",
   "execution_count": 20,
   "metadata": {},
   "outputs": [
    {
     "data": {
      "image/png": "[encoded data removed]",
      "text/plain": [
       "<Figure size 864x432 with 1 Axes>"
      ]
     },
     "metadata": {},
     "output_type": "display_data"
    }
   ],
   "source": [
    "fig, axs = hdf_filled.stratify(['Pclass']).cols['logFare'].boxplot(figsize=(12, 6))"
   ]
  },
  {
   "cell_type": "markdown",
   "metadata": {},
   "source": [
    "### So, apparently we have some outliers, which are quite different depending on `Pclass`... let's clean them up!\n",
    "\n",
    "## 2.6 Enter `fence`!\n",
    "\n",
    "### Using `fence`, you can `cap` values to the lower and upper fence values, according to Tukey's method!"
   ]
  },
  {
   "cell_type": "code",
   "execution_count": 21,
   "metadata": {},
   "outputs": [
    {
     "data": {
      "text/plain": [
       "{'Pclass == \"1\"': {'logFare': [1.8409952501611002, 6.1316413719490654]},\n",
       " 'Pclass == \"2\"': {'logFare': [1.6538880250316523, 4.281006170587935]},\n",
       " 'Pclass == \"3\"': {'logFare': [1.2175936795640057, 3.7548204017120526]}}"
      ]
     },
     "execution_count": 21,
     "metadata": {},
     "output_type": "execute_result"
    }
   ],
   "source": [
    "hdf_fenced = hdf_filled.stratify(['Pclass']).fence(['logFare'])\n",
    "hdf_fenced.fences_"
   ]
  },
  {
   "cell_type": "markdown",
   "metadata": {},
   "source": [
    "### \"But I want to use those values to cap outliers in the test set as well...\"\n",
    "\n",
    "## 2.7 Enter the `transformers` generator (again!)\n",
    "\n",
    "### You can generate a custom PySpark fencer transformer that will perform the stratified fencing!"
   ]
  },
  {
   "cell_type": "code",
   "execution_count": 22,
   "metadata": {},
   "outputs": [
    {
     "data": {
      "text/plain": [
       "{'Pclass == \"1\"': {'logFare': [1.8409952501611002, 6.1316413719490654]},\n",
       " 'Pclass == \"2\"': {'logFare': [1.6538880250316523, 4.281006170587935]},\n",
       " 'Pclass == \"3\"': {'logFare': [1.2175936795640057, 3.7548204017120526]}}"
      ]
     },
     "execution_count": 22,
     "metadata": {},
     "output_type": "execute_result"
    }
   ],
   "source": [
    "fencer = hdf_fenced.transformers.fencer()\n",
    "fencer.getDictValues()"
   ]
  },
  {
   "cell_type": "markdown",
   "metadata": {},
   "source": [
    "### How about using `pandas` to append new columns?\n",
    "\n",
    "## 2.8 Enter the `pandas` object from `HandySpark`!\n",
    "\n",
    "### Most of column functions are available, like `isin`:"
   ]
  },
  {
   "cell_type": "code",
   "execution_count": 23,
   "metadata": {},
   "outputs": [
    {
     "data": {
      "text/plain": [
       "Column<b'udf(Embarked) AS `<lambda>(Embarked,)`'>"
      ]
     },
     "execution_count": 23,
     "metadata": {},
     "output_type": "execute_result"
    }
   ],
   "source": [
    "some_ports = hdf_fenced.pandas['Embarked'].isin(values=['C', 'Q'])\n",
    "some_ports"
   ]
  },
  {
   "cell_type": "markdown",
   "metadata": {},
   "source": [
    "### The corresponding `pandas udf` is automatically generated and can be used directly in an `assign` expression:"
   ]
  },
  {
   "cell_type": "code",
   "execution_count": 24,
   "metadata": {},
   "outputs": [
    {
     "data": {
      "text/html": [
       "<div>\n",
       "<style scoped>\n",
       "    .dataframe tbody tr th:only-of-type {\n",
       "        vertical-align: middle;\n",
       "    }\n",
       "\n",
       "    .dataframe tbody tr th {\n",
       "        vertical-align: top;\n",
       "    }\n",
       "\n",
       "    .dataframe thead th {\n",
       "        text-align: right;\n",
       "    }\n",
       "</style>\n",
       "<table border=\"1\" class=\"dataframe\">\n",
       "  <thead>\n",
       "    <tr style=\"text-align: right;\">\n",
       "      <th></th>\n",
       "      <th>Embarked</th>\n",
       "      <th>some_ports</th>\n",
       "    </tr>\n",
       "  </thead>\n",
       "  <tbody>\n",
       "    <tr>\n",
       "      <th>0</th>\n",
       "      <td>C</td>\n",
       "      <td>True</td>\n",
       "    </tr>\n",
       "    <tr>\n",
       "      <th>1</th>\n",
       "      <td>S</td>\n",
       "      <td>False</td>\n",
       "    </tr>\n",
       "    <tr>\n",
       "      <th>2</th>\n",
       "      <td>S</td>\n",
       "      <td>False</td>\n",
       "    </tr>\n",
       "    <tr>\n",
       "      <th>3</th>\n",
       "      <td>C</td>\n",
       "      <td>True</td>\n",
       "    </tr>\n",
       "    <tr>\n",
       "      <th>4</th>\n",
       "      <td>C</td>\n",
       "      <td>True</td>\n",
       "    </tr>\n",
       "  </tbody>\n",
       "</table>\n",
       "</div>"
      ],
      "text/plain": [
       "  Embarked  some_ports\n",
       "0        C        True\n",
       "1        S       False\n",
       "2        S       False\n",
       "3        C        True\n",
       "4        C        True"
      ]
     },
     "execution_count": 24,
     "metadata": {},
     "output_type": "execute_result"
    }
   ],
   "source": [
    "hdf_fenced.assign(some_ports=some_ports).cols[['Embarked', 'some_ports']][:5]"
   ]
  },
  {
   "cell_type": "markdown",
   "metadata": {},
   "source": [
    "## Even pandas objects like `str` and `dt` are available, with lots of already supported methods, like `find`:"
   ]
  },
  {
   "cell_type": "code",
   "execution_count": 25,
   "metadata": {},
   "outputs": [
    {
     "data": {
      "text/html": [
       "<div>\n",
       "<style scoped>\n",
       "    .dataframe tbody tr th:only-of-type {\n",
       "        vertical-align: middle;\n",
       "    }\n",
       "\n",
       "    .dataframe tbody tr th {\n",
       "        vertical-align: top;\n",
       "    }\n",
       "\n",
       "    .dataframe thead th {\n",
       "        text-align: right;\n",
       "    }\n",
       "</style>\n",
       "<table border=\"1\" class=\"dataframe\">\n",
       "  <thead>\n",
       "    <tr style=\"text-align: right;\">\n",
       "      <th></th>\n",
       "      <th>Name</th>\n",
       "      <th>is_mrs</th>\n",
       "    </tr>\n",
       "  </thead>\n",
       "  <tbody>\n",
       "    <tr>\n",
       "      <th>0</th>\n",
       "      <td>Cumings, Mrs. John Bradley (Florence Briggs Th...</td>\n",
       "      <td>True</td>\n",
       "    </tr>\n",
       "    <tr>\n",
       "      <th>1</th>\n",
       "      <td>Futrelle, Mrs. Jacques Heath (Lily May Peel)</td>\n",
       "      <td>True</td>\n",
       "    </tr>\n",
       "    <tr>\n",
       "      <th>2</th>\n",
       "      <td>Bonnell, Miss. Elizabeth</td>\n",
       "      <td>False</td>\n",
       "    </tr>\n",
       "    <tr>\n",
       "      <th>3</th>\n",
       "      <td>Spencer, Mrs. William Augustus (Marie Eugenie)</td>\n",
       "      <td>True</td>\n",
       "    </tr>\n",
       "    <tr>\n",
       "      <th>4</th>\n",
       "      <td>Harper, Mrs. Henry Sleeper (Myna Haxtun)</td>\n",
       "      <td>True</td>\n",
       "    </tr>\n",
       "  </tbody>\n",
       "</table>\n",
       "</div>"
      ],
      "text/plain": [
       "                                                Name  is_mrs\n",
       "0  Cumings, Mrs. John Bradley (Florence Briggs Th...    True\n",
       "1       Futrelle, Mrs. Jacques Heath (Lily May Peel)    True\n",
       "2                           Bonnell, Miss. Elizabeth   False\n",
       "3     Spencer, Mrs. William Augustus (Marie Eugenie)    True\n",
       "4           Harper, Mrs. Henry Sleeper (Myna Haxtun)    True"
      ]
     },
     "execution_count": 25,
     "metadata": {},
     "output_type": "execute_result"
    }
   ],
   "source": [
    "col_mrs = hdf_fenced.pandas['Name'].str.find(sub='Mrs.')\n",
    "hdf_fenced.assign(is_mrs=col_mrs > 0).cols[['Name', 'is_mrs']][:5]"
   ]
  },
  {
   "cell_type": "markdown",
   "metadata": {},
   "source": [
    "## 2.9 What else can one do using `HandySpark`?\n",
    "\n",
    "### Lots of things, these are just a few examples..."
   ]
  },
  {
   "cell_type": "markdown",
   "metadata": {},
   "source": [
    "### Correlations"
   ]
  },
  {
   "cell_type": "code",
   "execution_count": 26,
   "metadata": {},
   "outputs": [],
   "source": [
    "strat_corr = hdf_fenced.stratify(['Sex']).cols[:].corr()"
   ]
  },
  {
   "cell_type": "code",
   "execution_count": 27,
   "metadata": {},
   "outputs": [
    {
     "data": {
      "text/plain": [
       "Sex     index      \n",
       "female  Age            0.132313\n",
       "        Fare           0.218466\n",
       "        Parch         -0.223644\n",
       "        PassengerId   -0.008790\n",
       "        Pclass        -0.477114\n",
       "        SibSp         -0.263284\n",
       "        Survived       1.000000\n",
       "        logFare        0.260679\n",
       "male    Age           -0.091223\n",
       "        Fare           0.171288\n",
       "        Parch          0.096318\n",
       "        PassengerId    0.040477\n",
       "        Pclass        -0.220618\n",
       "        SibSp         -0.020238\n",
       "        Survived       1.000000\n",
       "        logFare        0.225477\n",
       "Name: Survived, dtype: float64"
      ]
     },
     "execution_count": 27,
     "metadata": {},
     "output_type": "execute_result"
    }
   ],
   "source": [
    "strat_corr.loc[pd.IndexSlice[:, 'Survived']]"
   ]
  },
  {
   "cell_type": "markdown",
   "metadata": {},
   "source": [
    "### Stratified histograms"
   ]
  },
  {
   "cell_type": "code",
   "execution_count": 28,
   "metadata": {},
   "outputs": [
    {
     "data": {
      "image/png": "[encoded data removed]",
      "text/plain": [
       "<Figure size 720x576 with 6 Axes>"
      ]
     },
     "metadata": {},
     "output_type": "display_data"
    }
   ],
   "source": [
    "fig, axs = hdf_fenced.stratify(['Pclass', 'Sex']).cols['logFare'].hist(figsize=(10, 8))"
   ]
  },
  {
   "cell_type": "markdown",
   "metadata": {},
   "source": [
    "### Stratified scatterplots"
   ]
  },
  {
   "cell_type": "code",
   "execution_count": 29,
   "metadata": {},
   "outputs": [
    {
     "data": {
      "image/png": "[encoded data removed]",
      "text/plain": [
       "<Figure size 864x432 with 3 Axes>"
      ]
     },
     "metadata": {},
     "output_type": "display_data"
    }
   ],
   "source": [
    "fig, axs = hdf_fenced.stratify(['Pclass']).cols[['Age', 'logFare']].scatterplot(figsize=(12, 6))"
   ]
  },
  {
   "cell_type": "code",
   "execution_count": null,
   "metadata": {},
   "outputs": [],
   "source": []
  }
 ],
 "metadata": {
  "kernelspec": {
   "display_name": "Python 3",
   "language": "python",
   "name": "python3"
  },
  "language_info": {
   "codemirror_mode": {
    "name": "ipython",
    "version": 3
   },
   "file_extension": ".py",
   "mimetype": "text/x-python",
   "name": "python",
   "nbconvert_exporter": "python",
   "pygments_lexer": "ipython3",
   "version": "3.5.4"
  }
 },
 "nbformat": 4,
 "nbformat_minor": 2
}
